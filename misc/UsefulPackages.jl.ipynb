{
 "cells": [
  {
   "cell_type": "markdown",
   "metadata": {},
   "source": [
    "# UsefulPackages.jl: A one-stop shop"
   ]
  },
  {
   "cell_type": "markdown",
   "metadata": {},
   "source": [
    "`UsefulPackages.jl` is a one-stop shop to acquire some of the most important or most popular Julia packages. Simply run the script from shell or append it to your dotfiles, and enjoy a perfectly set up Julia environment!"
   ]
  },
  {
   "cell_type": "code",
   "execution_count": 4,
   "metadata": {
    "collapsed": false
   },
   "outputs": [
    {
     "name": "stderr",
     "output_type": "stream",
     "text": [
      "INFO: Updating METADATA...\n",
      "INFO: Updating cache of Compat...\n",
      "INFO: Computing changes...\n",
      "INFO: Cloning cache of StatsFuns from git://github.com/JuliaStats/StatsFuns.jl.git\n",
      "INFO: Upgrading Calculus: v0.1.8 => v0.1.9\n",
      "INFO: Upgrading Color: v0.4.5 => v0.4.7\n",
      "INFO: Upgrading Compat: v0.4.9 => v0.4.10\n",
      "INFO: Upgrading DSP: v0.0.8 => v0.0.9\n",
      "INFO: Upgrading DataArrays: v0.2.16 => v0.2.17\n",
      "INFO: Upgrading DataFrames: v0.6.7 => v0.6.8\n",
      "INFO: Upgrading DataStructures: v0.3.10 => v0.3.11\n",
      "INFO: Upgrading Distributions: v0.7.4 => v0.8.2\n",
      "INFO: Upgrading Docile: v0.5.12 => v0.5.13\n",
      "INFO: Upgrading FactCheck: v0.2.8 => v0.3.1\n",
      "INFO: Upgrading FixedPointNumbers: v0.0.8 => v0.0.9\n",
      "INFO: Upgrading Graphics: v0.1.0 => v0.1.1\n",
      "INFO: Upgrading HDF5: v0.4.18 => v0.5.1\n",
      "INFO: Upgrading Images: v0.4.39 => v0.4.41\n",
      "INFO: Upgrading Lazy: v0.8.4 => v0.9.1\n",
      "INFO: Upgrading Mamba: v0.5.1 => v0.5.2\n",
      "INFO: Upgrading MathProgBase: v0.3.12 => v0.3.14\n",
      "INFO: Upgrading Mustache: v0.0.9 => v0.0.10\n",
      "INFO: Upgrading Nettle: v0.1.8 => v0.1.10\n",
      "INFO: Upgrading PDMats: v0.3.3 => v0.3.5\n",
      "INFO: Upgrading PyCall: v0.8.1 => v0.8.2\n",
      "INFO: Upgrading Requires: v0.1.2 => v0.1.3\n",
      "INFO: Upgrading StatsBase: v0.6.15 => v0.7.0\n",
      "INFO: Installing StatsFuns v0.1.1\n",
      "INFO: Upgrading WoodburyMatrices: v0.1.0 => v0.1.1\n",
      "INFO: Building Blosc\n",
      "INFO: Building HDF5\n",
      "INFO: Building Images\n",
      "INFO: Building Cairo\n",
      "INFO: Building Nettle\n",
      "INFO: Nothing to be done\n",
      "INFO: Nothing to be done\n",
      "INFO: Nothing to be done\n",
      "INFO: Nothing to be done\n",
      "INFO: Nothing to be done\n",
      "INFO: Nothing to be done\n",
      "INFO: Nothing to be done\n",
      "INFO: Nothing to be done\n",
      "INFO: Nothing to be done\n",
      "INFO: Nothing to be done\n",
      "INFO: Nothing to be done\n",
      "INFO: Nothing to be done\n",
      "INFO: Nothing to be done\n",
      "INFO: Nothing to be done\n",
      "INFO: Nothing to be done\n",
      "INFO: Nothing to be done\n",
      "INFO: Nothing to be done\n",
      "INFO: Nothing to be done\n",
      "INFO: Nothing to be done\n",
      "INFO: Nothing to be done\n",
      "INFO: Nothing to be done\n",
      "INFO: Nothing to be done\n",
      "INFO: Nothing to be done\n",
      "INFO: Nothing to be done\n",
      "INFO: Nothing to be done\n",
      "INFO: Nothing to be done\n",
      "INFO: Nothing to be done\n",
      "INFO: Nothing to be done\n",
      "INFO: Nothing to be done\n",
      "INFO: Nothing to be done\n",
      "INFO: Nothing to be done\n",
      "INFO: Nothing to be done\n",
      "INFO: Nothing to be done\n",
      "INFO: Nothing to be done\n",
      "INFO: Nothing to be done\n",
      "INFO: Nothing to be done\n",
      "INFO: Nothing to be done\n",
      "INFO: Nothing to be done\n",
      "INFO: Nothing to be done\n",
      "INFO: Nothing to be done\n",
      "INFO: Nothing to be done\n",
      "INFO: Nothing to be done\n",
      "INFO: Nothing to be done\n",
      "INFO: Nothing to be done\n",
      "INFO: Nothing to be done\n",
      "INFO: Nothing to be done\n"
     ]
    }
   ],
   "source": [
    "#!usr/bin/env julia\n",
    "\n",
    "packages = [\"IJulia\", \"BackpropNeuralNet\", \"Bokeh\", \"Boltzmann\", \"Calculus\", \"Clustering\",\n",
    "            \"Convex\", \"Cpp\", \"DataArrays\", \"DataFrames\", \"DataFramesMeta\", \"DataStructures\",\n",
    "            \"DecisionTree\", \"Distances\", \"Distributions\", \"DSP\", \"FunctionalCollections\",\n",
    "            \"Gadfly\", \"GeneticAlgorithms\", \"GLM\", \"GLMNet\", \"Graphs\", \"HDF5\", \"HypothesisTests\",\n",
    "            \"Images\", \"IJulia\", \"JuMP\", \"MachineLearning\", \"Mamba\", \"Markdown\", \"Match\",\n",
    "            \"MixedModels\", \"MLBase\", \"MultivariateStats\", \"NLopt\", \"Optim\", \"Orchestra\", \"PGM\",\n",
    "            \"PyCall\", \"RCall\", \"RDatasets\", \"Regression\", \"StatsBase\", \"StreamStats\", \n",
    "            \"TimeSeries\", \"Winston\"]\n",
    "\n",
    "println(\"Updating metadata repo...\")\n",
    "try\n",
    "    Pkg.update()\n",
    "catch e\n",
    "    println(\"Updating the metadata repo failed. This install run may possibly install out-of-date versions of the packages.\")\n",
    "end\n",
    "\n",
    "installed = 0\n",
    "for package in packages    \n",
    "    println(\"Installing $package...\")\n",
    "    try\n",
    "        Pkg.add(package)\n",
    "    catch e\n",
    "        println(\"The installation of $package encountered an error: $e\")\n",
    "    end\n",
    "    installed += 1\n",
    "    println(\"Installation of $package successful. $(100*installed/length(packages)) complete.\")\n",
    "end"
   ]
  }
 ],
 "metadata": {
  "kernelspec": {
   "display_name": "Julia 0.4.0-dev",
   "language": "julia",
   "name": "julia-0.4"
  },
  "language_info": {
   "name": "julia",
   "version": "0.4.0"
  }
 },
 "nbformat": 4,
 "nbformat_minor": 0
}
